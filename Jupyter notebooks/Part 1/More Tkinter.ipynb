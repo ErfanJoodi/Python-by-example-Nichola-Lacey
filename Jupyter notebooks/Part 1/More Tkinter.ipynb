{
 "cells": [
  {
   "cell_type": "markdown",
   "metadata": {},
   "source": [
    "# Hi :)"
   ]
  },
  {
   "cell_type": "markdown",
   "metadata": {},
   "source": [
    "----"
   ]
  },
  {
   "cell_type": "markdown",
   "metadata": {},
   "source": [
    "133\n",
    "Create your own icon that consists of several\n",
    "vertical multi-coloured lines. Create a logo\n",
    "which measures 200 x 150, using Paint or\n",
    "another graphics package. Create the\n",
    "following window using your own icon and\n",
    "logo.\n",
    "When the user enters their name and clicks\n",
    "on the Press Me button it should display\n",
    "“Hello” and their name in the second text\n",
    "box."
   ]
  },
  {
   "cell_type": "code",
   "execution_count": 71,
   "metadata": {},
   "outputs": [],
   "source": [
    "from tkinter import *\n",
    "\n",
    "def click():\n",
    "    name= entry_box.get()\n",
    "    text= str(\"Hello \" + name)\n",
    "    outpuy_box[\"text\"]= text\n",
    "\n",
    "window= Tk()\n",
    "window.title(\"Names\")\n",
    "window.geometry(\"480x400\")\n",
    "# window.wm_iconbitmap(\"stripes.ico\")\n",
    "# window.configure(background= \"black\")\n",
    "window['bg']= 'black'\n",
    "\n",
    "logo= PhotoImage(file= \"Images/ErfanJoodi.gif\")\n",
    "logoimage= Label(image= logo)\n",
    "logoimage.place(x= 0, y= 0, width= 480, height= 600)\n",
    "\n",
    "entry_label= Label(text= \"Enter your name:\", font= ('Dosis', 12))\n",
    "entry_label.place(x= 86, y= 348)\n",
    "entry_label['bg']= 'Black'\n",
    "entry_label['fg']= 'white'\n",
    "\n",
    "entry_box= Entry(text= \"\", font= ('Dosis', 10))\n",
    "entry_box.place(x= 196, y= 348, width= 200, height= 25)\n",
    "entry_box['justify']= 'center'\n",
    "# entry_box.focus()\n",
    "\n",
    "button= Button(text= 'Press me', font= ('Dosis', 12), command= click)\n",
    "button.place(x= 86, y= 374, width= 110, height= 25)\n",
    "button['bg']= 'black'\n",
    "button['fg']= 'white'\n",
    "\n",
    "outpuy_box= Message(text= \"\", font= ('Dosis', 10))\n",
    "outpuy_box.place(x= 196, y= 374, width= 200, height= 25)\n",
    "outpuy_box['bg']= 'white'\n",
    "outpuy_box['fg']= 'black'\n",
    "\n",
    "window.mainloop()"
   ]
  }
 ],
 "metadata": {
  "kernelspec": {
   "display_name": "Qvenv",
   "language": "python",
   "name": "qvenv"
  },
  "language_info": {
   "codemirror_mode": {
    "name": "ipython",
    "version": 3
   },
   "file_extension": ".py",
   "mimetype": "text/x-python",
   "name": "python",
   "nbconvert_exporter": "python",
   "pygments_lexer": "ipython3",
   "version": "3.10.0"
  }
 },
 "nbformat": 4,
 "nbformat_minor": 2
}
