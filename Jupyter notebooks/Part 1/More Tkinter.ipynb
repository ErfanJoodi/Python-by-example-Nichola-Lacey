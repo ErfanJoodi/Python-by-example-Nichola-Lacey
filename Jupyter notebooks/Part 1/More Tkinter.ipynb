{
 "cells": [
  {
   "cell_type": "markdown",
   "metadata": {},
   "source": [
    "# Hi :)"
   ]
  },
  {
   "cell_type": "markdown",
   "metadata": {},
   "source": [
    "----"
   ]
  },
  {
   "cell_type": "markdown",
   "metadata": {},
   "source": [
    "133\n",
    "Create your own icon that consists of several\n",
    "vertical multi-coloured lines. Create a logo\n",
    "which measures 200 x 150, using Paint or\n",
    "another graphics package. Create the\n",
    "following window using your own icon and\n",
    "logo.\n",
    "When the user enters their name and clicks\n",
    "on the Press Me button it should display\n",
    "“Hello” and their name in the second text\n",
    "box."
   ]
  },
  {
   "cell_type": "code",
   "execution_count": 3,
   "metadata": {},
   "outputs": [],
   "source": [
    "from tkinter import *\n",
    "\n",
    "def click():\n",
    "    name= textbox1.get()\n",
    "    message= str(\"Hello \" + name)\n",
    "    textbox2[\"text\"]= message\n",
    "\n",
    "window= Tk()\n",
    "window.title(\"Names\")\n",
    "window.geometry(\"450x350\")\n",
    "# window.wm_iconbitmap(\"stripes.ico\")\n",
    "window.configure(background= \"black\")\n",
    "\n",
    "logo= PhotoImage(file= \"Images/ErfanJoodi.gif\")\n",
    "logoimage= Label(image= logo)\n",
    "logoimage.place(x= 100, y= 20, width= 200, height= 150)\n",
    "\n",
    "label= Label(text= \"Enter your name: \")\n",
    "label.place(x= 30, y= 200)\n",
    "label['bg']= 'black'\n",
    "label['fg']= 'white'\n",
    "\n",
    "textbox1= Entry(text= \"\")\n",
    "textbox1.place(x= 150, y= 200, width= 200, height= 25)\n",
    "textbox1['justify']= 'center'\n",
    "textbox1.focus()\n",
    "\n",
    "button1= Button(text= 'Press me', command= click)\n",
    "button1.place(x= 30, y= 250, width= 120, height= 25)\n",
    "button1['bg']= 'yellow'\n",
    "\n",
    "textbox2= Message(text= \"\")\n",
    "textbox2.place(x= 150, y= 250, width= 200, height= 25)\n",
    "textbox2['bg']= 'white'\n",
    "textbox2['fg']= 'black'\n",
    "\n",
    "window.mainloop()"
   ]
  }
 ],
 "metadata": {
  "kernelspec": {
   "display_name": "Qvenv",
   "language": "python",
   "name": "qvenv"
  },
  "language_info": {
   "codemirror_mode": {
    "name": "ipython",
    "version": 3
   },
   "file_extension": ".py",
   "mimetype": "text/x-python",
   "name": "python",
   "nbconvert_exporter": "python",
   "pygments_lexer": "ipython3",
   "version": "3.10.0"
  }
 },
 "nbformat": 4,
 "nbformat_minor": 2
}
